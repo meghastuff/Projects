{
 "cells": [
  {
   "cell_type": "code",
   "execution_count": 18,
   "id": "about-effects",
   "metadata": {},
   "outputs": [],
   "source": [
    "from tensorflow.keras.applications.vgg19 import VGG19, decode_predictions\n",
    "from tensorflow.keras.applications.inception_v3 import InceptionV3, decode_predictions\n",
    "from tensorflow.keras.applications.resnet import ResNet50, decode_predictions\n",
    "from tensorflow.keras.applications.xception import Xception, decode_predictions\n",
    "from tensorflow.keras.applications.mobilenet import MobileNet, decode_predictions\n",
    "\n",
    "from tensorflow.keras.applications.imagenet_utils import preprocess_input\n",
    "from tensorflow.keras.preprocessing import image\n",
    "from tensorflow.keras.models import load_model\n",
    "import numpy as np"
   ]
  },
  {
   "cell_type": "markdown",
   "id": "crazy-eagle",
   "metadata": {},
   "source": [
    "# VGG16"
   ]
  },
  {
   "cell_type": "code",
   "execution_count": 9,
   "id": "excess-charlotte",
   "metadata": {},
   "outputs": [],
   "source": [
    "def test(img,model):\n",
    "    img=image.load_img(img,target_size=(224,224))\n",
    "    img=image.img_to_array(img)\n",
    "    img=np.expand_dims(img, axis=0)#add number of images\n",
    "    img= preprocess_input(img)#to convert the image into the format the model requires\n",
    "    predicted = model.predict(img)\n",
    "    return(predicted)\n"
   ]
  },
  {
   "cell_type": "code",
   "execution_count": 12,
   "id": "intimate-adrian",
   "metadata": {},
   "outputs": [
    {
     "name": "stdout",
     "output_type": "stream",
     "text": [
      "1/1 [==============================] - 4s 4s/step\n",
      "Sorry label not found\n"
     ]
    }
   ],
   "source": [
    "model = VGG19(weights='imagenet') #instantiate architecture\n",
    "img=\"E:/Dataset/Images/tomato.jpg\"\n",
    "prediction=test(img,model)\n",
    "label = decode_predictions(prediction)#Decode prediction\n",
    "if(label[0][0][2]>=0.5):\n",
    "    print(\"Predicted:\",label[0][0][1])\n",
    "else:\n",
    "    print(\"Sorry label not found\")"
   ]
  },
  {
   "cell_type": "markdown",
   "id": "dangerous-hollow",
   "metadata": {},
   "source": [
    "# InceptionV3"
   ]
  },
  {
   "cell_type": "code",
   "execution_count": 16,
   "id": "hawaiian-distributor",
   "metadata": {},
   "outputs": [
    {
     "name": "stdout",
     "output_type": "stream",
     "text": [
      "(None, 299, 299, 3)\n",
      "1/1 [==============================] - 9s 9s/step\n",
      "[[('n04286575', 'spotlight', 1.0), ('n03950228', 'pitcher', 3.776476e-10), ('n06359193', 'web_site', 4.1363573e-14), ('n03047690', 'clog', 5.478709e-17), ('n01924916', 'flatworm', 1.665e-18)]]\n",
      "Predicted: spotlight\n"
     ]
    }
   ],
   "source": [
    "def test(img,model):\n",
    "    img=image.load_img(img,target_size=(299,299))\n",
    "    img=image.img_to_array(img)\n",
    "    img=np.expand_dims(img, axis=0)#add number of images\n",
    "    img= preprocess_input(img)#to convert the image into the format the model requires\n",
    "    predicted = model.predict(img)\n",
    "    return(predicted)\n",
    "\n",
    "model = InceptionV3(weights='imagenet') #instantiate architecture\n",
    "print(model.input_shape)\n",
    "img=\"E:/Dataset/Images/tomato.jpg\"\n",
    "prediction=test(img,model)\n",
    "label = decode_predictions(prediction)#Decode prediction\n",
    "print(label)\n",
    "if(label[0][0][2]>=0.5):\n",
    "    print(\"Predicted:\",label[0][0][1])\n",
    "else:\n",
    "    print(\"Sorry label not found\")"
   ]
  },
  {
   "cell_type": "markdown",
   "id": "prescription-quest",
   "metadata": {},
   "source": [
    "# ResNet"
   ]
  },
  {
   "cell_type": "code",
   "execution_count": 21,
   "id": "smooth-calculator",
   "metadata": {},
   "outputs": [
    {
     "name": "stdout",
     "output_type": "stream",
     "text": [
      "(None, 224, 224, 3)\n",
      "WARNING:tensorflow:5 out of the last 5 calls to <function Model.make_predict_function.<locals>.predict_function at 0x000001CC098709D8> triggered tf.function retracing. Tracing is expensive and the excessive number of tracings could be due to (1) creating @tf.function repeatedly in a loop, (2) passing tensors with different shapes, (3) passing Python objects instead of tensors. For (1), please define your @tf.function outside of the loop. For (2), @tf.function has reduce_retracing=True option that can avoid unnecessary retracing. For (3), please refer to https://www.tensorflow.org/guide/function#controlling_retracing and https://www.tensorflow.org/api_docs/python/tf/function for  more details.\n",
      "1/1 [==============================] - 8s 8s/step\n",
      "[[('n07745940', 'strawberry', 0.09676632), ('n03950228', 'pitcher', 0.054664604), ('n07747607', 'orange', 0.049319487), ('n12620546', 'hip', 0.037481073), ('n07742313', 'Granny_Smith', 0.036479667)]]\n",
      "Sorry label not found\n"
     ]
    }
   ],
   "source": [
    "def test(img,model):\n",
    "    img=image.load_img(img,target_size=(224,224))\n",
    "    img=image.img_to_array(img)\n",
    "    img=np.expand_dims(img, axis=0)#add number of images\n",
    "    img= preprocess_input(img)#to convert the image into the format the model requires\n",
    "    predicted = model.predict(img)\n",
    "    return(predicted)\n",
    "\n",
    "model = ResNet50(weights='imagenet') #instantiate architecture\n",
    "print(model.input_shape)\n",
    "img=\"E:/Dataset/Images/tomato.jpg\"\n",
    "prediction=test(img,model)\n",
    "label = decode_predictions(prediction)#Decode prediction\n",
    "print(label)\n",
    "if(label[0][0][2]>=0.5):\n",
    "    print(\"Predicted:\",label[0][0][1])\n",
    "else:\n",
    "    print(\"Sorry label not found\")"
   ]
  },
  {
   "cell_type": "markdown",
   "id": "understood-scientist",
   "metadata": {},
   "source": [
    "# Xception"
   ]
  },
  {
   "cell_type": "code",
   "execution_count": 23,
   "id": "presidential-quarterly",
   "metadata": {},
   "outputs": [
    {
     "name": "stdout",
     "output_type": "stream",
     "text": [
      "(None, 299, 299, 3)\n",
      "WARNING:tensorflow:6 out of the last 6 calls to <function Model.make_predict_function.<locals>.predict_function at 0x000001CC0B7408C8> triggered tf.function retracing. Tracing is expensive and the excessive number of tracings could be due to (1) creating @tf.function repeatedly in a loop, (2) passing tensors with different shapes, (3) passing Python objects instead of tensors. For (1), please define your @tf.function outside of the loop. For (2), @tf.function has reduce_retracing=True option that can avoid unnecessary retracing. For (3), please refer to https://www.tensorflow.org/guide/function#controlling_retracing and https://www.tensorflow.org/api_docs/python/tf/function for  more details.\n",
      "1/1 [==============================] - 7s 7s/step\n",
      "[[('n04127249', 'safety_pin', 0.9999988), ('n03775546', 'mixing_bowl', 1.1338788e-06), ('n03445777', 'golf_ball', 3.8447534e-14), ('n03942813', 'ping-pong_ball', 8.9841244e-17), ('n04149813', 'scoreboard', 8.0004505e-21)]]\n",
      "Predicted: safety_pin\n"
     ]
    }
   ],
   "source": [
    "def test(img,model):\n",
    "    img=image.load_img(img,target_size=(299,299))\n",
    "    img=image.img_to_array(img)\n",
    "    img=np.expand_dims(img, axis=0)#add number of images\n",
    "    img= preprocess_input(img)#to convert the image into the format the model requires\n",
    "    predicted = model.predict(img)\n",
    "    return(predicted)\n",
    "\n",
    "model = Xception(weights='imagenet') #instantiate architecture\n",
    "print(model.input_shape)\n",
    "img=\"E:/Dataset/Images/tomato.jpg\"\n",
    "prediction=test(img,model)\n",
    "label = decode_predictions(prediction)#Decode prediction\n",
    "print(label)\n",
    "if(label[0][0][2]>=0.5):\n",
    "    print(\"Predicted:\",label[0][0][1])\n",
    "else:\n",
    "    print(\"Sorry label not found\")"
   ]
  },
  {
   "cell_type": "markdown",
   "id": "documented-technician",
   "metadata": {},
   "source": [
    "# MobileNet"
   ]
  },
  {
   "cell_type": "code",
   "execution_count": 24,
   "id": "fitted-stephen",
   "metadata": {},
   "outputs": [
    {
     "name": "stdout",
     "output_type": "stream",
     "text": [
      "Downloading data from https://storage.googleapis.com/tensorflow/keras-applications/mobilenet/mobilenet_1_0_224_tf.h5\n",
      "17225924/17225924 [==============================] - 12s 1us/step\n",
      "(None, 224, 224, 3)\n",
      "1/1 [==============================] - 3s 3s/step\n",
      "[[('n01910747', 'jellyfish', 0.35989958), ('n04476259', 'tray', 0.07916024), ('n02948072', 'candle', 0.06474798), ('n04548280', 'wall_clock', 0.05946898), ('n15075141', 'toilet_tissue', 0.035173707)]]\n",
      "Sorry label not found\n"
     ]
    }
   ],
   "source": [
    "def test(img,model):\n",
    "    img=image.load_img(img,target_size=(224,224))\n",
    "    img=image.img_to_array(img)\n",
    "    img=np.expand_dims(img, axis=0)#add number of images\n",
    "    img= preprocess_input(img)#to convert the image into the format the model requires\n",
    "    predicted = model.predict(img)\n",
    "    return(predicted)\n",
    "\n",
    "model = MobileNet(weights='imagenet') #instantiate architecture\n",
    "print(model.input_shape)\n",
    "img=\"E:/Dataset/Images/tomato.jpg\"\n",
    "prediction=test(img,model)\n",
    "label = decode_predictions(prediction)#Decode prediction\n",
    "print(label)\n",
    "if(label[0][0][2]>=0.5):\n",
    "    print(\"Predicted:\",label[0][0][1])\n",
    "else:\n",
    "    print(\"Sorry label not found\")"
   ]
  },
  {
   "cell_type": "markdown",
   "id": "impossible-debate",
   "metadata": {},
   "source": [
    "## From the above predictions we can observe that the pre-trained models have not predicted the label of the vegetable correctly as it was not part of the training data"
   ]
  },
  {
   "cell_type": "code",
   "execution_count": null,
   "id": "particular-somewhere",
   "metadata": {},
   "outputs": [],
   "source": []
  }
 ],
 "metadata": {
  "kernelspec": {
   "display_name": "Python 3",
   "language": "python",
   "name": "python3"
  },
  "language_info": {
   "codemirror_mode": {
    "name": "ipython",
    "version": 3
   },
   "file_extension": ".py",
   "mimetype": "text/x-python",
   "name": "python",
   "nbconvert_exporter": "python",
   "pygments_lexer": "ipython3",
   "version": "3.7.3"
  }
 },
 "nbformat": 4,
 "nbformat_minor": 5
}
